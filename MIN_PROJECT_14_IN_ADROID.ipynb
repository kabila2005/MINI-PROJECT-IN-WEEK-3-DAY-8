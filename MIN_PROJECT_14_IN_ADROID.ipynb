{
  "nbformat": 4,
  "nbformat_minor": 0,
  "metadata": {
    "colab": {
      "provenance": [],
      "include_colab_link": true
    },
    "kernelspec": {
      "name": "python3",
      "display_name": "Python 3"
    },
    "language_info": {
      "name": "python"
    }
  },
  "cells": [
    {
      "cell_type": "markdown",
      "metadata": {
        "id": "view-in-github",
        "colab_type": "text"
      },
      "source": [
        "<a href=\"https://colab.research.google.com/github/kabila2005/MINI-PROJECT-IN-WEEK-3-DAY-8/blob/main/MIN_PROJECT_14_IN_ADROID.ipynb\" target=\"_parent\"><img src=\"https://colab.research.google.com/assets/colab-badge.svg\" alt=\"Open In Colab\"/></a>"
      ]
    },
    {
      "cell_type": "code",
      "execution_count": null,
      "metadata": {
        "colab": {
          "base_uri": "https://localhost:8080/"
        },
        "id": "muXTb5gBA_Ox",
        "outputId": "c5bf9b64-ea17-4822-9a9d-f6e183984f6d"
      },
      "outputs": [
        {
          "output_type": "stream",
          "name": "stdout",
          "text": [
            "Cosine Similarity\n"
          ]
        }
      ],
      "source": [
        "print ('Cosine Similarity')"
      ]
    },
    {
      "cell_type": "code",
      "source": [
        "print(' 1. Cosine Similarity Using numpy ')\n",
        "print()\n",
        "import numpy as np\n",
        "\n",
        "def cosine_similarity_np(vec1, vec2):\n",
        "    dot_product = np.dot(vec1, vec2)\n",
        "    norm_vec1 = np.linalg.norm(vec1)\n",
        "    norm_vec2 = np.linalg.norm(vec2)\n",
        "    return dot_product / (norm_vec1 * norm_vec2)\n",
        "\n",
        "# Example vectors\n",
        "vector1 = np.array([1, 2, 3])\n",
        "vector2 = np.array([4, 5, 6])\n",
        "\n",
        "similarity = cosine_similarity_np(vector1, vector2)\n",
        "print(f\"Cosine Similarity: {similarity}\")\n"
      ],
      "metadata": {
        "colab": {
          "base_uri": "https://localhost:8080/"
        },
        "id": "nsYL16LfBN2m",
        "outputId": "3019c127-d89e-480f-c4c1-eb9fdd5437f0"
      },
      "execution_count": null,
      "outputs": [
        {
          "output_type": "stream",
          "name": "stdout",
          "text": [
            " 1. Cosine Similarity Using numpy \n",
            "\n",
            "Cosine Similarity: 0.9746318461970762\n"
          ]
        }
      ]
    },
    {
      "cell_type": "code",
      "source": [
        "print(' 2. Cosine Similarity Using scikit-learn ')\n",
        "print()\n",
        "\n",
        "from sklearn.metrics.pairwise import cosine_similarity\n",
        "import numpy as np\n",
        "\n",
        "vector1 = np.array([[1, 2, 3]])\n",
        "vector2 = np.array([[4, 5, 6]])\n",
        "\n",
        "similarity = cosine_similarity(vector1, vector2)\n",
        "print(f\"Cosine Similarity: {similarity[0][0]}\")\n"
      ],
      "metadata": {
        "colab": {
          "base_uri": "https://localhost:8080/"
        },
        "id": "yaaUOfKABWhJ",
        "outputId": "16a43174-6bda-4b73-8433-ff517d0108e7"
      },
      "execution_count": null,
      "outputs": [
        {
          "output_type": "stream",
          "name": "stdout",
          "text": [
            " 2. Cosine Similarity Using scikit-learn \n",
            "\n",
            "Cosine Similarity: 0.9746318461970762\n"
          ]
        }
      ]
    },
    {
      "cell_type": "code",
      "source": [
        "print(' 3. Cosine Similarity using scikit-learn with TF-IDF vectors')\n",
        "print()\n",
        "from sklearn.feature_extraction.text import TfidfVectorizer\n",
        "from sklearn.metrics.pairwise import cosine_similarity\n",
        "\n",
        "documents = [\n",
        "    \"I love programming in Python.\",\n",
        "    \"Python programming is great for data science.\",\n",
        "    \"I enjoy solving problems with Python.\"\n",
        "]\n",
        "\n",
        "# Convert text to TF-IDF vectors\n",
        "vectorizer = TfidfVectorizer()\n",
        "tfidf_matrix = vectorizer.fit_transform(documents)\n",
        "\n",
        "# Compute cosine similarity matrix\n",
        "cosine_sim = cosine_similarity(tfidf_matrix, tfidf_matrix)\n",
        "\n",
        "# Print cosine similarity matrix\n",
        "print(\"Cosine Similarity Matrix:\")\n",
        "print(cosine_sim)\n"
      ],
      "metadata": {
        "colab": {
          "base_uri": "https://localhost:8080/"
        },
        "id": "ISZ2hVlGBfrb",
        "outputId": "4ac7806b-3e09-4d24-f5de-861f35e46b37"
      },
      "execution_count": null,
      "outputs": [
        {
          "output_type": "stream",
          "name": "stdout",
          "text": [
            " 3. Cosine Similarity using scikit-learn with TF-IDF vectors\n",
            "\n",
            "Cosine Similarity Matrix:\n",
            "[[1.         0.22260352 0.0977679 ]\n",
            " [0.22260352 1.         0.06870664]\n",
            " [0.0977679  0.06870664 1.        ]]\n"
          ]
        }
      ]
    },
    {
      "cell_type": "code",
      "source": [],
      "metadata": {
        "id": "HN8lj6D7BtDi"
      },
      "execution_count": null,
      "outputs": []
    }
  ]
}